{
 "cells": [
  {
   "cell_type": "code",
   "execution_count": 1,
   "id": "8dc5e45e",
   "metadata": {},
   "outputs": [],
   "source": [
    "\n",
    "import numpy as np\n",
    "import pandas as pd\n",
    "import heapq\n",
    "from dataclasses import dataclass, field\n",
    "from typing import List, Tuple\n",
    "import matplotlib.pyplot as plt\n",
    "\n",
    "# Reproducibilidad\n",
    "SEED_POP = 7\n",
    "SEED_SIM = 11\n",
    "\n",
    "# Parámetros globales\n",
    "N_AGENTS = 3000\n",
    "SIM_DAYS = 21"
   ]
  },
  {
   "cell_type": "markdown",
   "id": "32d2fea6",
   "metadata": {},
   "source": [
    "Agente y elemento de cola"
   ]
  },
  {
   "cell_type": "code",
   "execution_count": 2,
   "id": "3dc8c7c5",
   "metadata": {},
   "outputs": [],
   "source": [
    "@dataclass(order=True)\n",
    "class QueueItem:\n",
    "    # Orden de prioridad: menor = mejor. Usamos -risk para que mayor riesgo gane.\n",
    "    priority: Tuple[int, float, int, float, float]  # (tier, -risk, access, distance, hesitancy)\n",
    "    time: float\n",
    "    agent_id: int = field(compare=False)\n",
    "    action: str = field(compare=False, default=\"vaccinate\")\n",
    "\n",
    "@dataclass\n",
    "class Agent:\n",
    "    agent_id: int\n",
    "    age: int                     # años (0-100)\n",
    "    occupation: str              # {\"healthcare\",\"teacher\",\"other\"}\n",
    "    risk_score: float            # continuo 0-10\n",
    "    access_level: int            # 1=alto, 2=medio, 3=bajo\n",
    "    distance_km: float           # 0-20 km aprox.\n",
    "    hesitancy_prob: float        # [0,1] prob de no presentarse\n",
    "    vaccinated: bool = False\n"
   ]
  },
  {
   "cell_type": "markdown",
   "id": "29ffc98e",
   "metadata": {},
   "source": [
    "Muestreo de población (heterogeneidad + no subrepresentar minorías)"
   ]
  },
  {
   "cell_type": "code",
   "execution_count": 3,
   "id": "f851a928",
   "metadata": {},
   "outputs": [
    {
     "data": {
      "text/plain": [
       "(3000, 0.498)"
      ]
     },
     "execution_count": 3,
     "metadata": {},
     "output_type": "execute_result"
    }
   ],
   "source": [
    "def sample_population(N: int, seed: int = 7) -> List[Agent]:\n",
    "    rng = np.random.default_rng(seed)\n",
    "\n",
    "    # Edades base y forzar ~20% seniors (65+)\n",
    "    ages = rng.integers(0, 101, size=N)\n",
    "    idx_seniors = rng.choice(N, size=int(0.20*N), replace=False)\n",
    "    ages[idx_seniors] = rng.integers(65, 101, size=len(idx_seniors))\n",
    "\n",
    "    # Ocupación: ~30% esenciales (healthcare + teacher)\n",
    "    occ = rng.choice([\"healthcare\",\"teacher\",\"other\"], p=[0.15,0.15,0.70], size=N)\n",
    "\n",
    "    # Riesgo continuo 0-10\n",
    "    risk = rng.uniform(0, 10, size=N)\n",
    "\n",
    "    # Acceso (1,2,3) con ligera sobreasignación a niveles 1-2 para no subrepresentar 3\n",
    "    access = rng.choice([1,2,3], p=[0.35,0.35,0.30], size=N)\n",
    "\n",
    "    # Distancia a clínica ~ Gamma recortada [0,20]\n",
    "    distance = rng.gamma(shape=2.0, scale=3.0, size=N)\n",
    "    distance = np.clip(distance, 0, 20)\n",
    "\n",
    "    # Reticencia: base baja, pero mayor en acceso bajo\n",
    "    base_hes = rng.beta(2, 8, size=N)\n",
    "    hes = np.clip(base_hes + 0.15*(access==3) + 0.05*(access==2), 0, 1)\n",
    "\n",
    "    agents = [\n",
    "        Agent(\n",
    "            agent_id=i,\n",
    "            age=int(ages[i]),\n",
    "            occupation=str(occ[i]),\n",
    "            risk_score=float(risk[i]),\n",
    "            access_level=int(access[i]),\n",
    "            distance_km=float(distance[i]),\n",
    "            hesitancy_prob=float(hes[i]),\n",
    "        )\n",
    "        for i in range(N)\n",
    "    ]\n",
    "    return agents\n",
    "\n",
    "agents = sample_population(N_AGENTS, SEED_POP)\n",
    "len(agents), sum(a.age>=65 for a in agents)/len(agents)\n"
   ]
  },
  {
   "cell_type": "markdown",
   "id": "98ae33a1",
   "metadata": {},
   "source": [
    "Reglas de prioridad (manejo de conflictos)"
   ]
  },
  {
   "cell_type": "code",
   "execution_count": 4,
   "id": "2e06c032",
   "metadata": {},
   "outputs": [],
   "source": [
    "# Tier de prioridad:\n",
    "#  1: age >= 65\n",
    "#  2: healthcare\n",
    "#  3: teacher\n",
    "#  4: otros\n",
    "# Conflicto (ej. docente >=65): usamos min(tier_edad, tier_ocupación).\n",
    "# Desempates: mayor riesgo primero, luego mejor acceso (1<2<3), menor distancia, menor reticencia.\n",
    "\n",
    "def priority_tier(agent: Agent) -> int:\n",
    "    age_tier = 1 if agent.age >= 65 else 4\n",
    "    occ_tier = 2 if agent.occupation == \"healthcare\" else (3 if agent.occupation == \"teacher\" else 4)\n",
    "    return min(age_tier, occ_tier)\n",
    "\n",
    "def make_priority(agent: Agent) -> Tuple[int, float, int, float, float]:\n",
    "    tier = priority_tier(agent)\n",
    "    return (tier, -agent.risk_score, agent.access_level, agent.distance_km, agent.hesitancy_prob)\n"
   ]
  },
  {
   "cell_type": "markdown",
   "id": "d689aa84",
   "metadata": {},
   "source": [
    "Simulación event-driven (cola de prioridad + capacidad diaria variable)"
   ]
  },
  {
   "cell_type": "code",
   "execution_count": 5,
   "id": "45b12386",
   "metadata": {},
   "outputs": [
    {
     "data": {
      "text/html": [
       "<div>\n",
       "<style scoped>\n",
       "    .dataframe tbody tr th:only-of-type {\n",
       "        vertical-align: middle;\n",
       "    }\n",
       "\n",
       "    .dataframe tbody tr th {\n",
       "        vertical-align: top;\n",
       "    }\n",
       "\n",
       "    .dataframe thead th {\n",
       "        text-align: right;\n",
       "    }\n",
       "</style>\n",
       "<table border=\"1\" class=\"dataframe\">\n",
       "  <thead>\n",
       "    <tr style=\"text-align: right;\">\n",
       "      <th></th>\n",
       "      <th>timestamp_day</th>\n",
       "      <th>agent_id</th>\n",
       "      <th>age</th>\n",
       "      <th>occupation</th>\n",
       "      <th>risk_score</th>\n",
       "      <th>access_level</th>\n",
       "      <th>distance_km</th>\n",
       "      <th>hesitancy_prob</th>\n",
       "      <th>status</th>\n",
       "    </tr>\n",
       "  </thead>\n",
       "  <tbody>\n",
       "    <tr>\n",
       "      <th>0</th>\n",
       "      <td>2.030150</td>\n",
       "      <td>2260</td>\n",
       "      <td>97</td>\n",
       "      <td>teacher</td>\n",
       "      <td>9.998559</td>\n",
       "      <td>1</td>\n",
       "      <td>3.871316</td>\n",
       "      <td>0.313491</td>\n",
       "      <td>dose1</td>\n",
       "    </tr>\n",
       "    <tr>\n",
       "      <th>1</th>\n",
       "      <td>4.621485</td>\n",
       "      <td>1826</td>\n",
       "      <td>69</td>\n",
       "      <td>other</td>\n",
       "      <td>9.993967</td>\n",
       "      <td>1</td>\n",
       "      <td>3.723676</td>\n",
       "      <td>0.146481</td>\n",
       "      <td>dose1</td>\n",
       "    </tr>\n",
       "    <tr>\n",
       "      <th>2</th>\n",
       "      <td>4.388317</td>\n",
       "      <td>532</td>\n",
       "      <td>74</td>\n",
       "      <td>other</td>\n",
       "      <td>9.990174</td>\n",
       "      <td>1</td>\n",
       "      <td>8.088679</td>\n",
       "      <td>0.059319</td>\n",
       "      <td>dose1</td>\n",
       "    </tr>\n",
       "    <tr>\n",
       "      <th>3</th>\n",
       "      <td>5.024184</td>\n",
       "      <td>2977</td>\n",
       "      <td>87</td>\n",
       "      <td>other</td>\n",
       "      <td>9.985188</td>\n",
       "      <td>3</td>\n",
       "      <td>7.611431</td>\n",
       "      <td>0.234449</td>\n",
       "      <td>dose1</td>\n",
       "    </tr>\n",
       "    <tr>\n",
       "      <th>4</th>\n",
       "      <td>5.637549</td>\n",
       "      <td>2828</td>\n",
       "      <td>66</td>\n",
       "      <td>other</td>\n",
       "      <td>9.981208</td>\n",
       "      <td>1</td>\n",
       "      <td>2.650950</td>\n",
       "      <td>0.051902</td>\n",
       "      <td>dose1</td>\n",
       "    </tr>\n",
       "  </tbody>\n",
       "</table>\n",
       "</div>"
      ],
      "text/plain": [
       "   timestamp_day  agent_id  age occupation  risk_score  access_level  \\\n",
       "0       2.030150      2260   97    teacher    9.998559             1   \n",
       "1       4.621485      1826   69      other    9.993967             1   \n",
       "2       4.388317       532   74      other    9.990174             1   \n",
       "3       5.024184      2977   87      other    9.985188             3   \n",
       "4       5.637549      2828   66      other    9.981208             1   \n",
       "\n",
       "   distance_km  hesitancy_prob status  \n",
       "0     3.871316        0.313491  dose1  \n",
       "1     3.723676        0.146481  dose1  \n",
       "2     8.088679        0.059319  dose1  \n",
       "3     7.611431        0.234449  dose1  \n",
       "4     2.650950        0.051902  dose1  "
      ]
     },
     "execution_count": 5,
     "metadata": {},
     "output_type": "execute_result"
    }
   ],
   "source": [
    "def simulate_vaccination(agents: List[Agent], days: int = 21, seed: int = 11):\n",
    "    rng = np.random.default_rng(seed)\n",
    "\n",
    "    # Capacidad diaria heterogénea (ej. por disponibilidad de clínicas)\n",
    "    daily_capacity = np.maximum(50, (100 + 30*np.sin(np.linspace(0, 3*np.pi, days))).astype(int))\n",
    "\n",
    "    # Cola de prioridad (min-heap)\n",
    "    pq: List[QueueItem] = []\n",
    "\n",
    "    # Todos intentan agendar dentro de la primera semana, con jitter por distancia\n",
    "    for a in agents:\n",
    "        jitter = 0.1 * (a.distance_km / 20.0)             # hasta 0.1 días extra por distancia\n",
    "        t0 = rng.uniform(0, 7) + jitter                   # hora de llegada a la cola\n",
    "        heapq.heappush(pq, QueueItem(priority=make_priority(a), time=t0, agent_id=a.agent_id))\n",
    "\n",
    "    # Registro de eventos (dosis aplicadas)\n",
    "    rows = []\n",
    "\n",
    "    # Ventanas diarias [d, d+1)\n",
    "    for d in range(days):\n",
    "        cap = int(daily_capacity[d])\n",
    "        served = 0\n",
    "\n",
    "        # Extraer los que caen antes de d+1 y no antes de d\n",
    "        day_bucket: List[QueueItem] = []\n",
    "        while pq and pq[0].time < (d+1):\n",
    "            item = heapq.heappop(pq)\n",
    "            if item.time < d:\n",
    "                # llegó antes: pásalo al inicio del día d\n",
    "                item = QueueItem(priority=item.priority, time=float(d), agent_id=item.agent_id, action=item.action)\n",
    "            day_bucket.append(item)\n",
    "\n",
    "        # Orden estable determinístico por (priority, time)\n",
    "        day_bucket.sort(key=lambda x: (x.priority, x.time))\n",
    "\n",
    "        for item in day_bucket:\n",
    "            if served >= cap:\n",
    "                # reagendar para el día siguiente (pequeño offset)\n",
    "                heapq.heappush(pq, QueueItem(priority=item.priority, time=d+1+0.05, agent_id=item.agent_id))\n",
    "                continue\n",
    "\n",
    "            ag = agents[item.agent_id]\n",
    "            if ag.vaccinated:\n",
    "                continue\n",
    "\n",
    "            # No-show por reticencia\n",
    "            if rng.random() < ag.hesitancy_prob:\n",
    "                delay = 0.5 + 0.5*rng.random()  # reagendo\n",
    "                heapq.heappush(pq, QueueItem(priority=item.priority, time=item.time + delay, agent_id=item.agent_id))\n",
    "                continue\n",
    "\n",
    "            # Aplicar dosis\n",
    "            ag.vaccinated = True\n",
    "            served += 1\n",
    "            rows.append({\n",
    "                \"timestamp_day\": d + rng.uniform(0,1),\n",
    "                \"agent_id\": ag.agent_id,\n",
    "                \"age\": ag.age,\n",
    "                \"occupation\": ag.occupation,\n",
    "                \"risk_score\": ag.risk_score,\n",
    "                \"access_level\": ag.access_level,\n",
    "                \"distance_km\": ag.distance_km,\n",
    "                \"hesitancy_prob\": ag.hesitancy_prob,\n",
    "                \"status\": \"dose1\",\n",
    "            })\n",
    "\n",
    "    registry = pd.DataFrame(rows)\n",
    "    return registry, daily_capacity\n",
    "\n",
    "registry, daily_capacity = simulate_vaccination(agents, days=SIM_DAYS, seed=SEED_SIM)\n",
    "registry.head()\n"
   ]
  },
  {
   "cell_type": "markdown",
   "id": "c07b4eef",
   "metadata": {},
   "source": [
    "Resúmenes y visualizaciones (serie temporal, barras, Lorenz)"
   ]
  },
  {
   "cell_type": "code",
   "execution_count": 6,
   "id": "ade8cefe",
   "metadata": {},
   "outputs": [
    {
     "data": {
      "image/png": "[encoded data removed]",
      "text/plain": [
       "<Figure size 640x480 with 1 Axes>"
      ]
     },
     "metadata": {},
     "output_type": "display_data"
    },
    {
     "data": {
      "image/png": "[encoded data removed]",
      "text/plain": [
       "<Figure size 640x480 with 1 Axes>"
      ]
     },
     "metadata": {},
     "output_type": "display_data"
    },
    {
     "data": {
      "image/png": "[encoded data removed]",
      "text/plain": [
       "<Figure size 640x480 with 1 Axes>"
      ]
     },
     "metadata": {},
     "output_type": "display_data"
    }
   ],
   "source": [
    "# --- Serie temporal de dosis por día ---\n",
    "series = registry.copy()\n",
    "series[\"day\"] = series[\"timestamp_day\"].astype(int)\n",
    "ts = series.groupby(\"day\").size().reindex(range(SIM_DAYS), fill_value=0)\n",
    "\n",
    "plt.figure()\n",
    "plt.plot(ts.index, ts.values, marker=\"o\")\n",
    "plt.title(\"Dosis aplicadas por día\")\n",
    "plt.xlabel(\"Día\")\n",
    "plt.ylabel(\"Dosis\")\n",
    "plt.tight_layout()\n",
    "plt.show()\n",
    "\n",
    "# --- Barras por nivel de acceso ---\n",
    "by_access = registry.groupby(\"access_level\").size().reindex([1,2,3], fill_value=0)\n",
    "\n",
    "plt.figure()\n",
    "plt.bar(by_access.index.astype(str), by_access.values)\n",
    "plt.title(\"Dosis por nivel de acceso (1=alto, 3=bajo)\")\n",
    "plt.xlabel(\"Nivel de acceso\")\n",
    "plt.ylabel(\"Dosis\")\n",
    "plt.tight_layout()\n",
    "plt.show()\n",
    "\n",
    "# --- Curva de Lorenz por acceso ---\n",
    "def lorenz_by_access(registry_df: pd.DataFrame):\n",
    "    access_order = [3,2,1]  # de peor a mejor acceso\n",
    "    doses = registry_df.groupby(\"access_level\").size().reindex(access_order, fill_value=0).values.astype(float)\n",
    "    cum_doses = np.cumsum(doses)\n",
    "    cum_doses_norm = cum_doses / cum_doses[-1]\n",
    "    # población acumulada por estrato (en base a toda la población original)\n",
    "    # si prefieres, puedes calcularla sobre 'agents' en vez del registro\n",
    "    pop_shares = []\n",
    "    for k in access_order:\n",
    "        pop_shares.append((registry_df[\"access_level\"]==k).mean())\n",
    "    cum_pop = np.cumsum(np.array(pop_shares))\n",
    "    return np.concatenate([[0.0], cum_pop]), np.concatenate([[0.0], cum_doses_norm])\n",
    "\n",
    "x, y = lorenz_by_access(registry)\n",
    "\n",
    "plt.figure()\n",
    "plt.plot(x, y, marker=\"o\")\n",
    "plt.plot([0,1],[0,1], linestyle=\"--\")\n",
    "plt.title(\"Curva de Lorenz por nivel de acceso\")\n",
    "plt.xlabel(\"Proporción acumulada de población\")\n",
    "plt.ylabel(\"Proporción acumulada de dosis\")\n",
    "plt.tight_layout()\n",
    "plt.show()\n"
   ]
  },
  {
   "cell_type": "markdown",
   "id": "455a0b71",
   "metadata": {},
   "source": [
    "En la simulación se observa que la aplicación de dosis aumenta de forma escalonada, con un gran salto inicial y variaciones diarias según la capacidad de atención. La cobertura alcanzada fue cercana al 50 %, concentrándose mayormente en los adultos mayores (65+), lo cual confirma que las reglas de prioridad funcionaron. Sin embargo, la distribución por nivel de acceso evidencia una ligera desventaja para quienes tienen menor acceso (nivel 3), ya que recibieron menos dosis en comparación con los niveles altos. Aun así, la curva de Lorenz se mantuvo cercana a la línea de igualdad, lo que indica que las desigualdades no fueron extremas. En conjunto, los resultados muestran que las políticas de prioridad permiten proteger a los grupos de mayor riesgo, aunque persisten diferencias ligadas al nivel de acceso y ocupación."
   ]
  },
  {
   "cell_type": "code",
   "execution_count": null,
   "id": "085fd86b",
   "metadata": {},
   "outputs": [
    {
     "name": "stdout",
     "output_type": "stream",
     "text": [
      "Cobertura (al menos 1 dosis): 0.504\n",
      "\n",
      "Vacunados por ocupación:\n",
      " occupation\n",
      "other         1013\n",
      "healthcare     266\n",
      "teacher        233\n",
      "Name: count, dtype: int64\n",
      "\n",
      "Vacunados por grupo etario:\n",
      " 65+      1428\n",
      "19-65      73\n",
      "0-18       11\n",
      "Name: count, dtype: int64\n"
     ]
    }
   ],
   "source": [
    "# Métricas rápidas\n",
    "coverage = len(registry[\"agent_id\"].unique()) / len(agents)\n",
    "by_occ = registry[\"occupation\"].value_counts()\n",
    "by_age_bin = pd.cut([a.age for a in agents], bins=[0,18,65,120], right=True, labels=[\"0-18\",\"19-65\",\"65+\"])\n",
    "vacc_ids = set(registry[\"agent_id\"].unique())\n",
    "age_bin_series = pd.Series([list(by_age_bin)[i] for i in range(len(agents))])\n",
    "vacc_by_agebin = age_bin_series[[i in vacc_ids for i in range(len(agents))]].value_counts()\n",
    "\n",
    "print(f\"Cobertura (al menos 1 dosis): {coverage:.3f}\")\n",
    "print(\"\\nVacunados por ocupación:\\n\", by_occ)\n",
    "print(\"\\nVacunados por grupo etario:\\n\", vacc_by_agebin)\n",
    "\n",
    "# Exportar registro si se  quisiera jeje\n",
    "# registry.to_csv(\"registro_vacunacion.csv\", index=False)\n"
   ]
  },
  {
   "cell_type": "code",
   "execution_count": 9,
   "id": "0e2b732f",
   "metadata": {},
   "outputs": [
    {
     "data": {
      "text/plain": [
       "(1510, array([70, 79, 86, 90, 89]))"
      ]
     },
     "execution_count": 9,
     "metadata": {},
     "output_type": "execute_result"
    }
   ],
   "source": [
    "# Ejemplos:\n",
    "# - Cambiar N_AGENTS\n",
    "# - Bajar o subir la reticencia agregando un sesgo global\n",
    "# - Forzar menor capacidad diaria\n",
    "\n",
    "def simulate_with_knobs(n_agents=3000, days=21, capacity_scale=1.0, hes_bias=0.0, seed_pop=7, seed_sim=11):\n",
    "    rng = np.random.default_rng(seed_pop)\n",
    "    # Re-sample\n",
    "    ags = sample_population(n_agents, seed_pop)\n",
    "    # Ajustar hesitancia global\n",
    "    for a in ags:\n",
    "        a.hesitancy_prob = float(np.clip(a.hesitancy_prob + hes_bias, 0, 1))\n",
    "\n",
    "    # Simulación con capacidad escalada\n",
    "    # Implementamos un wrapper sencillo:\n",
    "    #   - Corremos simulate_vaccination y luego escalamos daily_capacity en posproceso\n",
    "    reg, cap = simulate_vaccination(ags, days=days, seed=seed_sim)\n",
    "    cap = (cap * capacity_scale).astype(int)\n",
    "    return reg, cap\n",
    "\n",
    "# Ejemplo (no se ejecuta por defecto):\n",
    "reg2, cap2 = simulate_with_knobs(n_agents=3000, days=21, capacity_scale=0.7, hes_bias=0.1)\n",
    "len(reg2), cap2[:5]\n"
   ]
  }
 ],
 "metadata": {
  "kernelspec": {
   "display_name": "Python 3",
   "language": "python",
   "name": "python3"
  },
  "language_info": {
   "codemirror_mode": {
    "name": "ipython",
    "version": 3
   },
   "file_extension": ".py",
   "mimetype": "text/x-python",
   "name": "python",
   "nbconvert_exporter": "python",
   "pygments_lexer": "ipython3",
   "version": "3.10.0"
  }
 },
 "nbformat": 4,
 "nbformat_minor": 5
}
