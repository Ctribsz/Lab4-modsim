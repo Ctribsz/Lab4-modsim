{
  "nbformat": 4,
  "nbformat_minor": 0,
  "metadata": {
    "colab": {
      "provenance": []
    },
    "kernelspec": {
      "name": "python3",
      "display_name": "Python 3"
    },
    "language_info": {
      "name": "python"
    }
  },
  "cells": [
    {
      "cell_type": "markdown",
      "source": [
        "# Ejercicio 2 - Respuesta a pandemia urbana"
      ],
      "metadata": {
        "id": "nMsPIvq17mrJ"
      }
    },
    {
      "cell_type": "markdown",
      "source": [
        "## 1. Agente Urbano"
      ],
      "metadata": {
        "id": "j5QKOYnbI_iP"
      }
    },
    {
      "cell_type": "code",
      "execution_count": 1,
      "metadata": {
        "id": "McHSEVwt7gxD"
      },
      "outputs": [],
      "source": [
        "class AgenteUrbano:\n",
        "    def __init__(self, agent_id):\n",
        "        self.id = agent_id\n",
        "\n",
        "        # a) Rasgos discretos\n",
        "        self.ocupacion      = None   # médico | maestro | otro\n",
        "        self.grupo_edad     = None   # 0-18 | 19-64 | 65+\n",
        "        self.hogar_tipo     = None   # individual | nuclear | extendido\n",
        "\n",
        "        # b) Rasgos continuos\n",
        "        self.tasa_movilidad = None   # 0.0 – 1.0  (contactos diarios normalizados)\n",
        "        self.ingreso_mensual = None  # Q0 – Q20 000 (en quetzales)\n",
        "\n",
        "        # c) Rasgo relacional\n",
        "        self.hogar_id = None         # identificador único del hogar compartido"
      ]
    },
    {
      "cell_type": "markdown",
      "source": [
        " ¿Cómo encodearías los trabajadores de la salud vs los maestros para evitar sesgo?\n",
        "\n",
        "Hacemos una endodificación de one-hot separada para poder tratar al grupo de manera especializada y despues balanceamos para evitar el sesgo, Ejemplo:"
      ],
      "metadata": {
        "id": "7lZ0GVv8PdYs"
      }
    },
    {
      "cell_type": "code",
      "source": [
        "# Pseudo-codificación\n",
        "def encode_occupation(agent):\n",
        "    if agent.ocupacion == \"medico\":\n",
        "        return [1, 0, 0]   # one-hot\n",
        "    elif agent.ocupacion == \"maestro\":\n",
        "        return [0, 1, 0]\n",
        "    else:\n",
        "        return [0, 0, 1]"
      ],
      "metadata": {
        "id": "SqJfoZQJQQS-"
      },
      "execution_count": null,
      "outputs": []
    },
    {
      "cell_type": "markdown",
      "source": [
        "## 2. Proponer métodos de muestreo para distribuciones realistas (p. ej. Distrubución Gamma)"
      ],
      "metadata": {
        "id": "OZ3ehbukQdIk"
      }
    },
    {
      "cell_type": "markdown",
      "source": [
        "### Si los datos muestran que el 20% de las enfermeras trabajan en turnos de noche, ¿cómo validarías esto en tu modelo?\n",
        "\n",
        "- Si datos muestran que 20 % de enfermeras trabajan en turnos nocturnos, se valida:\n",
        "  - Muestrear ocupación y turno de forma conjunta (tabla de contingencia).\n",
        "  - Usar rechazo muestral (rejection sampling) hasta alcanzar proporción observada."
      ],
      "metadata": {
        "id": "-8vu4noxQurN"
      }
    },
    {
      "cell_type": "code",
      "source": [
        "# Pseudo-código\n",
        "while not proporcion_valida:\n",
        "    enfermera = sample(ocupacion=\"enfermera\")\n",
        "    if random() < 0.2:\n",
        "        enfermera.turno = \"nocturno\"\n",
        "    else:\n",
        "        enfermera.turno = \"diurno\""
      ],
      "metadata": {
        "id": "fBINh61tRQUx"
      },
      "execution_count": null,
      "outputs": []
    },
    {
      "cell_type": "markdown",
      "source": [
        "## 3. Predecir cómo las correlaciones entre rasgos (p. ej., bajos ingresos + bajo acceso a vacunas) podrían distorsionar la dinámica del brote. Fundamente su hipótesis."
      ],
      "metadata": {
        "id": "-BE6l0rXQkJq"
      }
    },
    {
      "cell_type": "markdown",
      "source": [
        "1. Correlación observada\n",
        "\n",
        "  - ocupación == \"docente\"\n",
        "  - tasa_movilidad >> promedio (por ejemplo, por transporte público diario a escuelas en distintos barrios)\n",
        "\n",
        "2. Impacto en la dinámica del brote\n",
        "\n",
        "  - Rol de super-difusión temprana:\n",
        "    Los docentes entran en contacto con múltiples grupos (alumnos, padres, otros maestros), creando puentes de transmisión entre barrios y escuelas.\n",
        "    \n",
        "  - Picos tempranos y dispersión geográfica:\n",
        "    Aunque los docentes no tengan mayor riesgo biológico, su alta movilidad hace que el brote aparezca “deslocalizado” y con múltiples frentes.\n",
        "  \n",
        "  - Subestimación del riesgo por edad:\n",
        "    Si el modelo ignora la interacción ocupación × movilidad, puede atribuir incorrectamente los primeros picos a “niños” o “jóvenes” cuando en realidad fueron introducidos por adultos móviles.\n",
        "\n",
        "3. Distorsión en recomendaciones\n",
        "\n",
        "  - Políticas que solo cierran escuelas sin restringir la movilidad docente pueden fallar en contener la propagación inter-barrio.\n",
        "  - El modelo podría recomendar vacunación prioritaria solo por edad (ej. adultos mayores), cuando vacunar primero a docentes móviles tendría mayor efecto multiplicador."
      ],
      "metadata": {
        "id": "5Y_y0JJYSowj"
      }
    }
  ]
}