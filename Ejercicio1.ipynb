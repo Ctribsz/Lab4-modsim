{
  "nbformat": 4,
  "nbformat_minor": 0,
  "metadata": {
    "colab": {
      "provenance": []
    },
    "kernelspec": {
      "name": "python3",
      "display_name": "Python 3"
    },
    "language_info": {
      "name": "python"
    }
  },
  "cells": [
    {
      "cell_type": "markdown",
      "source": [
        "# Ejercicio 1 - Simulacion discreta y continua"
      ],
      "metadata": {
        "id": "nMsPIvq17mrJ"
      }
    },
    {
      "cell_type": "markdown",
      "source": [
        "## 1. Esbozo de arquitecturas"
      ],
      "metadata": {
        "id": "j5QKOYnbI_iP"
      }
    },
    {
      "cell_type": "markdown",
      "source": [
        "### a.Tiempo discreto (actualizaciones diarias)"
      ],
      "metadata": {
        "id": "yJO5lu3dIlLG"
      }
    },
    {
      "cell_type": "code",
      "execution_count": null,
      "metadata": {
        "id": "McHSEVwt7gxD"
      },
      "outputs": [],
      "source": [
        "# Pseudo-código\n",
        "for day in simulation_days:\n",
        "    for agent in agents:\n",
        "        if agent.infected:\n",
        "            for contact in agent.contacts_today:\n",
        "                if not contact.immune:\n",
        "                    contact.infect(probability=0.3)\n",
        "        agent.update_state()  # recuperación, muerte, etc."
      ]
    },
    {
      "cell_type": "markdown",
      "source": [
        "### b. Tiempo continuo (eventos impulsados por infecciones)"
      ],
      "metadata": {
        "id": "XXhlYlw1IoMM"
      }
    },
    {
      "cell_type": "code",
      "source": [
        "# Pseudo-código\n",
        "event_queue = PriorityQueue()\n",
        "\n",
        "while not event_queue.empty():\n",
        "    event = event_queue.pop()\n",
        "    agent = event.agent\n",
        "    if event.type == \"infection\":\n",
        "        agent.infect()\n",
        "        for contact in agent.contacts:\n",
        "            delay = exponential(mean=2)  # horas\n",
        "            event_queue.push(InfectionEvent(contact, timestamp=now + delay))"
      ],
      "metadata": {
        "id": "9sVY6MbsIor-"
      },
      "execution_count": null,
      "outputs": []
    },
    {
      "cell_type": "markdown",
      "source": [
        "## 2. Para cada arquitectura"
      ],
      "metadata": {
        "id": "tNPv5VE2JXEq"
      }
    },
    {
      "cell_type": "markdown",
      "source": [
        "### a. Atributos clave del agente"
      ],
      "metadata": {
        "id": "7ICAlhROJT_z"
      }
    },
    {
      "cell_type": "markdown",
      "source": [
        "| Atributo        | Tiempo Discreto                    | Tiempo Continuo                    |\n",
        "| --------------- | ---------------------------------- | ---------------------------------- |\n",
        "| `id`            | Identificador único                | Identificador único                |\n",
        "| `state`         | susceptible, infectado, recuperado | susceptible, infectado, recuperado |\n",
        "| `infection_day` | día de infección                   | timestamp exacto                   |\n",
        "| `contacts`      | lista de contactos diarios         | lista de contactos con hora        |\n",
        "| `role`          | paciente, médico, visitante        | paciente, médico, visitante        |\n",
        "| `ward`          | sala o área del hospital           | sala o área del hospital           |\n"
      ],
      "metadata": {
        "id": "IjvRehqtJMf1"
      }
    },
    {
      "cell_type": "markdown",
      "source": [
        "### b. Tipos de eventos a monitorizar"
      ],
      "metadata": {
        "id": "M4MlFhZmJeTX"
      }
    },
    {
      "cell_type": "markdown",
      "source": [
        "- Tiempo discreto:\n",
        "  - daily_infection_check\n",
        "  - recovery_check\n",
        "  - discharge\n",
        "\n",
        "- Tiempo continuo:\n",
        "  - infection_event\n",
        "  - contact_event\n",
        "  - quarantine_event\n",
        "  - discharge_event"
      ],
      "metadata": {
        "id": "mzQrbrAEJjtm"
      }
    },
    {
      "cell_type": "markdown",
      "source": [
        "### c. Métricas de salida"
      ],
      "metadata": {
        "id": "1JMzvWfxJ8L5"
      }
    },
    {
      "cell_type": "markdown",
      "source": [
        "| Métrica                  | Descripción                               |\n",
        "| ------------------------ | ----------------------------------------- |\n",
        "| `daily_new_cases`        | Número de nuevas infecciones por día      |\n",
        "| `peak_infections`        | Máximo número de infectados simultáneos   |\n",
        "| `attack_rate_by_role`    | Tasa de ataque por rol (médico, paciente) |\n",
        "| `ward_outbreaks`         | Número de brotes por sala                 |\n",
        "| `avg_infection_duration` | Tiempo promedio de infección              |\n"
      ],
      "metadata": {
        "id": "aRJ0viqpJ_bc"
      }
    }
  ]
}
